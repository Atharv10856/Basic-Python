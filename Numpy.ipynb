{
 "cells": [
  {
   "cell_type": "code",
   "execution_count": 2,
   "id": "fc1840bd-b338-4c5d-8bb4-b6bcb2d47965",
   "metadata": {},
   "outputs": [
    {
     "name": "stdout",
     "output_type": "stream",
     "text": [
      "Requirement already satisfied: numpy in c:\\users\\atharv tonape\\appdata\\local\\anaconda3\\lib\\site-packages (1.26.4)Note: you may need to restart the kernel to use updated packages.\n",
      "\n"
     ]
    }
   ],
   "source": [
    "pip install numpy"
   ]
  },
  {
   "cell_type": "code",
   "execution_count": 3,
   "id": "a13c7b3f-7211-486b-8933-9b755b3be880",
   "metadata": {},
   "outputs": [],
   "source": [
    "import numpy as np"
   ]
  },
  {
   "cell_type": "code",
   "execution_count": 4,
   "id": "d46fa988-bbb3-452e-a71d-288ec2886c5b",
   "metadata": {},
   "outputs": [
    {
     "data": {
      "text/plain": [
       "3.4285714285714284"
      ]
     },
     "execution_count": 4,
     "metadata": {},
     "output_type": "execute_result"
    }
   ],
   "source": [
    "np.mean([1,4,3,5,3,5,3])"
   ]
  },
  {
   "cell_type": "code",
   "execution_count": 5,
   "id": "eeac04a8-0228-4df4-ade5-a808aa7f7768",
   "metadata": {},
   "outputs": [
    {
     "data": {
      "text/plain": [
       "3.0"
      ]
     },
     "execution_count": 5,
     "metadata": {},
     "output_type": "execute_result"
    }
   ],
   "source": [
    "np.median([1,4,3,5,3,5,3])"
   ]
  },
  {
   "cell_type": "code",
   "execution_count": 6,
   "id": "0f04ebfb-8006-4396-b1b6-49a4302ced5f",
   "metadata": {},
   "outputs": [
    {
     "name": "stdout",
     "output_type": "stream",
     "text": [
      "1.26.4\n"
     ]
    }
   ],
   "source": [
    "print(np.__version__)"
   ]
  },
  {
   "cell_type": "code",
   "execution_count": null,
   "id": "39adaea7-21d4-4811-a3f3-68c2e44b7b22",
   "metadata": {},
   "outputs": [],
   "source": [
    "np.average"
   ]
  },
  {
   "cell_type": "markdown",
   "id": "dda4f3f9-1e9c-4a71-b35b-febb099ca499",
   "metadata": {},
   "source": [
    "# Array"
   ]
  },
  {
   "cell_type": "code",
   "execution_count": 7,
   "id": "b9a69250-2f29-4b3f-b1ba-f15dda60deb9",
   "metadata": {},
   "outputs": [],
   "source": [
    "l = [1,2,3,4,5]"
   ]
  },
  {
   "cell_type": "code",
   "execution_count": 8,
   "id": "952790f5-1088-41ca-a82b-52ca185cd0d3",
   "metadata": {},
   "outputs": [
    {
     "data": {
      "text/plain": [
       "[1, 2, 3, 4, 5]"
      ]
     },
     "execution_count": 8,
     "metadata": {},
     "output_type": "execute_result"
    }
   ],
   "source": [
    "l"
   ]
  },
  {
   "cell_type": "code",
   "execution_count": 9,
   "id": "39d7424b-d8eb-4ae8-ac88-e32527262fbe",
   "metadata": {},
   "outputs": [
    {
     "data": {
      "text/plain": [
       "list"
      ]
     },
     "execution_count": 9,
     "metadata": {},
     "output_type": "execute_result"
    }
   ],
   "source": [
    "type(l)"
   ]
  },
  {
   "cell_type": "code",
   "execution_count": 10,
   "id": "b105f3e7-b995-4d6c-bc84-dbe67529c415",
   "metadata": {},
   "outputs": [],
   "source": [
    "d1 = np.array([1,2,3,4])"
   ]
  },
  {
   "cell_type": "code",
   "execution_count": 11,
   "id": "41d8eca4-3b55-47f1-b15c-118d950952bc",
   "metadata": {},
   "outputs": [
    {
     "data": {
      "text/plain": [
       "array([1, 2, 3, 4])"
      ]
     },
     "execution_count": 11,
     "metadata": {},
     "output_type": "execute_result"
    }
   ],
   "source": [
    "d1"
   ]
  },
  {
   "cell_type": "code",
   "execution_count": 13,
   "id": "48cf5a3e-ab61-41a9-957f-141c2a461199",
   "metadata": {},
   "outputs": [
    {
     "data": {
      "text/plain": [
       "1"
      ]
     },
     "execution_count": 13,
     "metadata": {},
     "output_type": "execute_result"
    }
   ],
   "source": [
    "d1.ndim"
   ]
  },
  {
   "cell_type": "code",
   "execution_count": 14,
   "id": "5ad57494-44db-4caf-906b-3f485a1a0c5e",
   "metadata": {},
   "outputs": [],
   "source": [
    "d2 = np.array([[1,2,3], [4,5,6]])"
   ]
  },
  {
   "cell_type": "code",
   "execution_count": 15,
   "id": "ab5df88d-fd74-488b-9907-e6cd19a20a12",
   "metadata": {},
   "outputs": [
    {
     "data": {
      "text/plain": [
       "array([[1, 2, 3],\n",
       "       [4, 5, 6]])"
      ]
     },
     "execution_count": 15,
     "metadata": {},
     "output_type": "execute_result"
    }
   ],
   "source": [
    "d2"
   ]
  },
  {
   "cell_type": "code",
   "execution_count": 16,
   "id": "0100f5d7-6175-45e3-8d34-47da56122461",
   "metadata": {},
   "outputs": [
    {
     "data": {
      "text/plain": [
       "2"
      ]
     },
     "execution_count": 16,
     "metadata": {},
     "output_type": "execute_result"
    }
   ],
   "source": [
    "d2.ndim"
   ]
  },
  {
   "cell_type": "code",
   "execution_count": 17,
   "id": "48e8268d-b506-4105-b487-5b3527f9c1a4",
   "metadata": {},
   "outputs": [],
   "source": [
    "d3 = np.array([[[1,2,3,4], [1,2,3,4],[10,20,30,40]]])"
   ]
  },
  {
   "cell_type": "code",
   "execution_count": 18,
   "id": "342896d1-866e-468c-b06f-4d8f24b37923",
   "metadata": {},
   "outputs": [
    {
     "data": {
      "text/plain": [
       "array([[[ 1,  2,  3,  4],\n",
       "        [ 1,  2,  3,  4],\n",
       "        [10, 20, 30, 40]]])"
      ]
     },
     "execution_count": 18,
     "metadata": {},
     "output_type": "execute_result"
    }
   ],
   "source": [
    "d3"
   ]
  },
  {
   "cell_type": "code",
   "execution_count": 19,
   "id": "f0346f18-8c84-472b-9f9c-f89e777fdbb7",
   "metadata": {},
   "outputs": [
    {
     "data": {
      "text/plain": [
       "3"
      ]
     },
     "execution_count": 19,
     "metadata": {},
     "output_type": "execute_result"
    }
   ],
   "source": [
    "d3.ndim"
   ]
  },
  {
   "cell_type": "code",
   "execution_count": 20,
   "id": "afe04be5-dd6d-43ec-a77a-5115512713c1",
   "metadata": {},
   "outputs": [
    {
     "data": {
      "text/plain": [
       "array([47, 39, 40, 38, 35])"
      ]
     },
     "execution_count": 20,
     "metadata": {},
     "output_type": "execute_result"
    }
   ],
   "source": [
    "np.random.randint(10,50,5)"
   ]
  },
  {
   "cell_type": "code",
   "execution_count": 21,
   "id": "aebacf7f-1fb1-4999-9508-4031ac191638",
   "metadata": {},
   "outputs": [
    {
     "data": {
      "text/plain": [
       "array([[0.56564625, 0.7878882 ],\n",
       "       [0.65183364, 0.4458269 ],\n",
       "       [0.91727191, 0.75580844]])"
      ]
     },
     "execution_count": 21,
     "metadata": {},
     "output_type": "execute_result"
    }
   ],
   "source": [
    "np.random.rand(3,2)"
   ]
  },
  {
   "cell_type": "code",
   "execution_count": 22,
   "id": "f11ac957-f1f8-43b0-a724-57e4d128cefe",
   "metadata": {},
   "outputs": [
    {
     "data": {
      "text/plain": [
       "array([[[-0.84132799,  1.69208151,  1.8931296 ],\n",
       "        [-0.86645913, -0.81232408, -0.89277135]],\n",
       "\n",
       "       [[ 1.27909413,  0.54397106, -0.7598112 ],\n",
       "        [ 2.16319281, -1.13453689,  1.92832416]]])"
      ]
     },
     "execution_count": 22,
     "metadata": {},
     "output_type": "execute_result"
    }
   ],
   "source": [
    "np.random.randn(2,2,3)"
   ]
  },
  {
   "cell_type": "code",
   "execution_count": 23,
   "id": "6338e7aa-5df7-4d1f-9e2d-11d216a42113",
   "metadata": {},
   "outputs": [
    {
     "data": {
      "text/plain": [
       "array([4])"
      ]
     },
     "execution_count": 23,
     "metadata": {},
     "output_type": "execute_result"
    }
   ],
   "source": [
    "np.random.randint(1,6,1)"
   ]
  },
  {
   "cell_type": "code",
   "execution_count": 24,
   "id": "2caa7616-42e0-4c5b-a8f3-6d3b16705694",
   "metadata": {},
   "outputs": [
    {
     "name": "stdout",
     "output_type": "stream",
     "text": [
      "Requirement already satisfied: pandas in c:\\users\\atharv tonape\\appdata\\local\\anaconda3\\lib\\site-packages (2.2.2)\n",
      "Requirement already satisfied: numpy>=1.26.0 in c:\\users\\atharv tonape\\appdata\\local\\anaconda3\\lib\\site-packages (from pandas) (1.26.4)\n",
      "Requirement already satisfied: python-dateutil>=2.8.2 in c:\\users\\atharv tonape\\appdata\\local\\anaconda3\\lib\\site-packages (from pandas) (2.9.0.post0)\n",
      "Requirement already satisfied: pytz>=2020.1 in c:\\users\\atharv tonape\\appdata\\local\\anaconda3\\lib\\site-packages (from pandas) (2024.1)\n",
      "Requirement already satisfied: tzdata>=2022.7 in c:\\users\\atharv tonape\\appdata\\local\\anaconda3\\lib\\site-packages (from pandas) (2023.3)\n",
      "Requirement already satisfied: six>=1.5 in c:\\users\\atharv tonape\\appdata\\local\\anaconda3\\lib\\site-packages (from python-dateutil>=2.8.2->pandas) (1.16.0)\n",
      "Note: you may need to restart the kernel to use updated packages.\n"
     ]
    }
   ],
   "source": [
    "pip install pandas"
   ]
  },
  {
   "cell_type": "code",
   "execution_count": 25,
   "id": "ebd9f011-9460-4640-948e-85d77a3b7579",
   "metadata": {},
   "outputs": [],
   "source": [
    "import pandas as pd"
   ]
  },
  {
   "cell_type": "code",
   "execution_count": null,
   "id": "14317c38-bfb8-46ee-a189-8aa6df1a6716",
   "metadata": {},
   "outputs": [],
   "source": []
  }
 ],
 "metadata": {
  "kernelspec": {
   "display_name": "Python 3 (ipykernel)",
   "language": "python",
   "name": "python3"
  },
  "language_info": {
   "codemirror_mode": {
    "name": "ipython",
    "version": 3
   },
   "file_extension": ".py",
   "mimetype": "text/x-python",
   "name": "python",
   "nbconvert_exporter": "python",
   "pygments_lexer": "ipython3",
   "version": "3.12.7"
  }
 },
 "nbformat": 4,
 "nbformat_minor": 5
}
