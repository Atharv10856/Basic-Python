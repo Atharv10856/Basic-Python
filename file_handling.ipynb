{
 "cells": [
  {
   "cell_type": "code",
   "execution_count": 1,
   "id": "9dd8befd-e6ec-4084-9deb-c269d37b44da",
   "metadata": {},
   "outputs": [
    {
     "name": "stdout",
     "output_type": "stream",
     "text": [
      " Volume in drive C has no label.\n",
      " Volume Serial Number is 7205-8EBA\n",
      "\n",
      " Directory of C:\\Users\\Atharv Tonape\\Downloads\\704_A\\Python\\Basic\\Advanced\\file_handling\n",
      "\n",
      "07/16/2025  11:13 AM    <DIR>          .\n",
      "07/16/2025  11:13 AM    <DIR>          ..\n",
      "07/16/2025  11:13 AM    <DIR>          .ipynb_checkpoints\n",
      "07/16/2025  11:12 AM               337 file_handling.ipynb\n",
      "               1 File(s)            337 bytes\n",
      "               3 Dir(s)  196,202,831,872 bytes free\n"
     ]
    }
   ],
   "source": [
    "ls"
   ]
  },
  {
   "cell_type": "code",
   "execution_count": 2,
   "id": "b536d026-eef7-4f94-a7c8-e7c11680e696",
   "metadata": {},
   "outputs": [
    {
     "name": "stdout",
     "output_type": "stream",
     "text": [
      " Volume in drive C has no label.\n",
      " Volume Serial Number is 7205-8EBA\n",
      "\n",
      " Directory of C:\\Users\\Atharv Tonape\\Downloads\\704_A\\Python\\Basic\\Advanced\\file_handling\n",
      "\n",
      "07/16/2025  11:13 AM    <DIR>          .\n",
      "07/16/2025  11:13 AM    <DIR>          ..\n",
      "07/16/2025  11:13 AM    <DIR>          .ipynb_checkpoints\n",
      "07/16/2025  11:12 AM               337 file_handling.ipynb\n",
      "               1 File(s)            337 bytes\n",
      "               3 Dir(s)  196,206,026,752 bytes free\n"
     ]
    }
   ],
   "source": [
    "%ls"
   ]
  },
  {
   "cell_type": "code",
   "execution_count": 3,
   "id": "13eef1c3-bcee-44b9-9658-00d3a31de3c0",
   "metadata": {},
   "outputs": [
    {
     "name": "stdout",
     "output_type": "stream",
     "text": [
      "C:\\Users\\Atharv Tonape\n"
     ]
    }
   ],
   "source": [
    "cd"
   ]
  },
  {
   "cell_type": "code",
   "execution_count": null,
   "id": "d79928bb-b860-458c-a77c-71acfffbd121",
   "metadata": {},
   "outputs": [],
   "source": []
  }
 ],
 "metadata": {
  "kernelspec": {
   "display_name": "Python 3 (ipykernel)",
   "language": "python",
   "name": "python3"
  },
  "language_info": {
   "codemirror_mode": {
    "name": "ipython",
    "version": 3
   },
   "file_extension": ".py",
   "mimetype": "text/x-python",
   "name": "python",
   "nbconvert_exporter": "python",
   "pygments_lexer": "ipython3",
   "version": "3.12.7"
  }
 },
 "nbformat": 4,
 "nbformat_minor": 5
}
