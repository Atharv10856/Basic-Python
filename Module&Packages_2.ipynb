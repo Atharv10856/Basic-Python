{
 "cells": [
  {
   "cell_type": "code",
   "execution_count": 1,
   "id": "32b9de12-59e1-497d-8e4c-974828e361e2",
   "metadata": {},
   "outputs": [
    {
     "ename": "NameError",
     "evalue": "name 'add' is not defined",
     "output_type": "error",
     "traceback": [
      "\u001b[1;31m---------------------------------------------------------------------------\u001b[0m",
      "\u001b[1;31mNameError\u001b[0m                                 Traceback (most recent call last)",
      "Cell \u001b[1;32mIn[1], line 1\u001b[0m\n\u001b[1;32m----> 1\u001b[0m add(\u001b[38;5;241m1\u001b[39m,\u001b[38;5;241m3\u001b[39m)\n",
      "\u001b[1;31mNameError\u001b[0m: name 'add' is not defined"
     ]
    }
   ],
   "source": [
    "add(1,3)"
   ]
  },
  {
   "cell_type": "code",
   "execution_count": 2,
   "id": "4607fa3b-5d29-4f81-a092-7ed5142f81af",
   "metadata": {},
   "outputs": [],
   "source": [
    "import functions"
   ]
  },
  {
   "cell_type": "code",
   "execution_count": 3,
   "id": "7bcffe3f-a4a0-442d-8ce0-45b3d6e01d2c",
   "metadata": {},
   "outputs": [
    {
     "data": {
      "text/plain": [
       "17"
      ]
     },
     "execution_count": 3,
     "metadata": {},
     "output_type": "execute_result"
    }
   ],
   "source": [
    "functions.add(10,7)"
   ]
  },
  {
   "cell_type": "code",
   "execution_count": 4,
   "id": "c08586ec-7e34-445c-87bc-64d6f8001f15",
   "metadata": {},
   "outputs": [
    {
     "data": {
      "text/plain": [
       "50"
      ]
     },
     "execution_count": 4,
     "metadata": {},
     "output_type": "execute_result"
    }
   ],
   "source": [
    "functions.multiply(10,5)"
   ]
  },
  {
   "cell_type": "code",
   "execution_count": 5,
   "id": "7b049bfd-377b-47a3-ac27-8ef727550cb8",
   "metadata": {},
   "outputs": [
    {
     "data": {
      "text/plain": [
       "25"
      ]
     },
     "execution_count": 5,
     "metadata": {},
     "output_type": "execute_result"
    }
   ],
   "source": [
    "functions.square(5)"
   ]
  },
  {
   "cell_type": "code",
   "execution_count": 7,
   "id": "f1c20b00-7f2f-42b6-92aa-d6dcb16b94f2",
   "metadata": {},
   "outputs": [],
   "source": [
    "import testing as df"
   ]
  },
  {
   "cell_type": "code",
   "execution_count": 8,
   "id": "b9e8cab9-df16-48c7-9e2f-cf20de7ab75a",
   "metadata": {},
   "outputs": [
    {
     "name": "stdout",
     "output_type": "stream",
     "text": [
      "Odd Number\n"
     ]
    }
   ],
   "source": [
    "df.even_odd(9)"
   ]
  },
  {
   "cell_type": "code",
   "execution_count": 9,
   "id": "371bb7f5-4a62-41bf-af33-dd3e5ef17705",
   "metadata": {},
   "outputs": [
    {
     "name": "stdout",
     "output_type": "stream",
     "text": [
      "Even Number\n"
     ]
    }
   ],
   "source": [
    "df.even_odd(4)"
   ]
  },
  {
   "cell_type": "code",
   "execution_count": 10,
   "id": "d03d5f76-3896-480f-9e73-bb73d092d944",
   "metadata": {},
   "outputs": [
    {
     "name": "stdout",
     "output_type": "stream",
     "text": [
      "2\n",
      "4\n"
     ]
    }
   ],
   "source": [
    "df.int_filter(2,4,1.4,'Hello', True)"
   ]
  },
  {
   "cell_type": "code",
   "execution_count": 11,
   "id": "d1caccfa-9e05-43c3-a0b5-8bc583db78d9",
   "metadata": {},
   "outputs": [],
   "source": [
    "import numpy"
   ]
  },
  {
   "cell_type": "code",
   "execution_count": 13,
   "id": "0c5a14c3-0a52-44cd-b55c-a34509d59a8b",
   "metadata": {},
   "outputs": [
    {
     "data": {
      "text/plain": [
       "20.0"
      ]
     },
     "execution_count": 13,
     "metadata": {},
     "output_type": "execute_result"
    }
   ],
   "source": [
    "numpy.mean([10,20,30,20])"
   ]
  },
  {
   "cell_type": "code",
   "execution_count": 14,
   "id": "cf5e22b3-f28b-450e-8cdc-5defd2557c04",
   "metadata": {},
   "outputs": [
    {
     "data": {
      "text/plain": [
       "30"
      ]
     },
     "execution_count": 14,
     "metadata": {},
     "output_type": "execute_result"
    }
   ],
   "source": [
    "numpy.add(10,20)"
   ]
  },
  {
   "cell_type": "code",
   "execution_count": null,
   "id": "93d40f22-5b5f-4b99-bf94-41de146e675f",
   "metadata": {},
   "outputs": [],
   "source": []
  }
 ],
 "metadata": {
  "kernelspec": {
   "display_name": "Python 3 (ipykernel)",
   "language": "python",
   "name": "python3"
  },
  "language_info": {
   "codemirror_mode": {
    "name": "ipython",
    "version": 3
   },
   "file_extension": ".py",
   "mimetype": "text/x-python",
   "name": "python",
   "nbconvert_exporter": "python",
   "pygments_lexer": "ipython3",
   "version": "3.12.7"
  }
 },
 "nbformat": 4,
 "nbformat_minor": 5
}
